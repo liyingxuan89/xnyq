{
 "cells": [
  {
   "cell_type": "code",
   "execution_count": 1,
   "metadata": {
    "collapsed": false
   },
   "outputs": [
    {
     "name": "stderr",
     "output_type": "stream",
     "text": [
      "/Library/Frameworks/Python.framework/Versions/2.7/lib/python2.7/site-packages/matplotlib/font_manager.py:273: UserWarning: Matplotlib is building the font cache using fc-list. This may take a moment.\n",
      "  warnings.warn('Matplotlib is building the font cache using fc-list. This may take a moment.')\n"
     ]
    }
   ],
   "source": [
    "import sys\n",
    "import pandas as pd\n",
    "import numpy as np\n",
    "import sklearn as sl\n",
    "import scipy.stats as ss\n",
    "import logging\n",
    "import matplotlib.pyplot as plt\n",
    "from datetime import datetime\n",
    "from sklearn import preprocessing\n",
    "from pandas import DataFrame, Series"
   ]
  },
  {
   "cell_type": "code",
   "execution_count": 80,
   "metadata": {
    "collapsed": false
   },
   "outputs": [],
   "source": [
    "class RJH(object):\n",
    "\n",
    "    def __init__(self, table):\n",
    "        \"\"\"\n",
    "        init prams\n",
    "        \"\"\"\n",
    "        self.__htArray = table\n",
    "        self.__table = table\n",
    "        self.preprocess()\n",
    "        #print self.__table\n",
    "        self.name = \"hetong rijihua\"\n",
    "\n",
    "    def getWholeTable(self):\n",
    "\n",
    "        \"\"\"fetch the whole table!\"\"\"\n",
    "        return self.__htArray\n",
    "    \n",
    "    def getTable(self):\n",
    "        \"\"\"fetch the preprocessed table\"\"\"\n",
    "        return self.__table\n",
    "\n",
    "    def getColumn(self, columnName=None, columnNumber=None):\n",
    "        \"\"\"fetch one column of the table either by Name for ny column index\"\"\"\n",
    "        data = self.getTable()\n",
    "        if columnName and columnNumber:\n",
    "            print \"Only one prameter needed!!!\"\n",
    "            raise ValueError\n",
    "        elif columnName:\n",
    "            return data[columnName]\n",
    "        elif columnNumber:\n",
    "            return data.values[:,columnNumber-1]\n",
    "        else:\n",
    "            print \"You should give either the columnName or the columnNumber!!!\"\n",
    "            raise IOError\n",
    "\n",
    "\n",
    "    def processWithNull(self):\n",
    "        data = self.getTable()\n",
    "        inputs = preprocessing.Imputer(missing_values='NaN', strategy='mean', axis=0)\n",
    "        new_data = inputs.fit(data)\n",
    "        return new_data\n",
    "\n",
    "    def preprocess(self):\n",
    "        data = self.getWholeTable()\n",
    "        data[\"month\"] = pd.Series([\"0\"+x if int(x)<10 and len(x)<2 else x for x in data[\"month\"]])\n",
    "        data[\"day\"] = pd.Series([\"0\"+x if int(x)<10 and len(x)<2 else x for x in data[\"day\"]])\n",
    "        data[\"time\"] = data[\"year\"] + data[\"month\"] + data[\"day\"]\n",
    "        self.__data = data\n",
    "        \n",
    "\n",
    "    def getWeightMean(self, arr, weights=None):\n",
    "        if not weights:\n",
    "            return arr.sum()/len(arr)\n",
    "        else:\n",
    "            return np.mean(arr, weights)\n",
    "\n",
    "    def funargs(argType=\"day\"):\n",
    "        def meanWrapper(func):\n",
    "            def inner():\n",
    "                self.func()\n",
    "                return inner\n",
    "        return meanWrapper\n",
    "    \n",
    "    def getmean(self):\n",
    "        pass\n",
    "        \n",
    "    def getCompanyInfo(self, companyId):\n",
    "       \n",
    "        \"\"\"\n",
    "         params:\n",
    "                 companyId: int, the id number of client;\n",
    "        \"\"\"\n",
    "        data = self.getTable()\n",
    "        \n",
    "        companyInfo = data.values[data.values[:,4]==companyId]\n",
    "        #print companyInfo\n",
    "        return DataFrame(companyInfo, columns=data.columns)\n",
    "\n",
    "    def getMeanByDay(self, date=None):\n",
    "        data = self.getTable()\n",
    "        dayData = data.values[data.values[:,5] == date]\n",
    "        return np.mean(dayData[:,3])\n",
    "\n",
    "    def getMeanByCompany(self, companyId=None, companyName=None):\n",
    "        data = self.getTable()\n",
    "        values = data.values\n",
    "        \n",
    "        if  companyId:\n",
    "            companyData = values[values[:,4] == companyId]\n",
    "            return np.mean(companyData[:,3])\n",
    "        \n",
    "        elif companyName:\n",
    "            companyData = values[values[:,7] == companyName]\n",
    "            return np.mean(companyData[:,3])\n",
    "        \n",
    "\n",
    "    def getMedianByDay(self,date=None):\n",
    "        data = self.getTable()\n",
    "        dayData = data.values[data.values[:,5] == date]\n",
    "        return np.median(dayData[:,3])\n",
    "    \n",
    "\n",
    "    def getMedianByCompany(self, companyId=None, companyName=None):\n",
    "        \n",
    "        data = self.getTable()\n",
    "        values = data.values\n",
    "        \n",
    "        if companyId:\n",
    "            companyData = values[values[:,4] == companyId]\n",
    "            return np.median(companyData[:,3])\n",
    "        elif CompanyName:\n",
    "            companyData = values[values[:,7] == companyName]\n",
    "            return np.median(companyData[:,3])\n",
    "        \n",
    "    def getConsumptionByDay(self, date=None):\n",
    "        data = self.getTable()\n",
    "        dayData = data.values[data.values[:,5] == date]\n",
    "        return np.sum(dayData[:,3])\n",
    "\n",
    "    def getConsumptionByCompany(self, companyId=None, companyName=None):\n",
    "        data = self.getTable()\n",
    "        values = data.values\n",
    "        \n",
    "        if  companyId:\n",
    "            companyData = values[values[:,4] == companyId]\n",
    "            return np.sum(companyData[:,3])\n",
    "        \n",
    "        elif companyName:\n",
    "            companyData = values[values[:,7] == companyName]\n",
    "            return np.sum(companyData[:,3])    \n",
    "    \n",
    "    def getVariance(self, date=None):\n",
    "        data = self.getTable()\n",
    "        dayData = data.values[data.values[:,5] == date]\n",
    "        return np.std(dayData[:,3])                     \n",
    "        \n",
    "\n",
    "    def predict(self):\n",
    "\n",
    "        pass\n"
   ]
  },
  {
   "cell_type": "code",
   "execution_count": 9,
   "metadata": {
    "collapsed": true
   },
   "outputs": [],
   "source": [
    "######get the filename######\n",
    "filename = 'rjhb3000.csv'\n",
    "    #print filename\n",
    "\n",
    "###################################################################################\n",
    "######read file into dataFrame#######\n",
    "data = pd.read_csv(filename, sep='\\t',\n",
    "                        header=0, dtype={\"year\":str, \"month\":str, \"day\":str})\n",
    "    #print(data)\n",
    "\n",
    "##################################################################################\n",
    "######Function Test######\n",
    "######preprocess######\n",
    "\n"
   ]
  },
  {
   "cell_type": "code",
   "execution_count": 81,
   "metadata": {
    "collapsed": false
   },
   "outputs": [
    {
     "name": "stdout",
     "output_type": "stream",
     "text": [
      "      year month day   volume  company      time\n",
      "0     2018    08  29   0.0000  3000336  20180829\n",
      "1     2018    08  29   0.6452  3000337  20180829\n",
      "2     2018    08  29   6.8387  3000338  20180829\n",
      "3     2018    08  29   3.2470  3000339  20180829\n",
      "4     2018    08  29   1.6083  3000340  20180829\n",
      "5     2018    08  29   0.0000  3000341  20180829\n",
      "6     2018    08  29   0.0000  3000342  20180829\n",
      "7     2018    08  29   0.0000  3000344  20180829\n",
      "8     2018    08  29   0.0000  3000345  20180829\n",
      "9     2018    08  29   0.0000  3000347  20180829\n",
      "10    2018    08  29  18.0000  3000350  20180829\n",
      "11    2018    08  29   8.0000  3000351  20180829\n",
      "12    2018    08  29   0.3500  3000352  20180829\n",
      "13    2018    08  29   0.2903  3000353  20180829\n",
      "14    2018    08  29   0.3226  3000354  20180829\n",
      "15    2018    08  29   3.8710  3000355  20180829\n",
      "16    2018    08  29   0.5806  3000356  20180829\n",
      "17    2018    08  29   0.5806  3000357  20180829\n",
      "18    2018    08  29  18.2581  3000358  20180829\n",
      "19    2018    08  29  18.2581  3000359  20180829\n",
      "20    2018    08  29   0.0645  3000360  20180829\n",
      "21    2018    08  29   2.5161  3000362  20180829\n",
      "22    2018    08  29   2.5161  3000363  20180829\n",
      "23    2018    08  29   4.8387  3000364  20180829\n",
      "24    2018    08  29   0.0000  3000366  20180829\n",
      "25    2018    08  29  17.6129  3000367  20180829\n",
      "26    2018    08  29   0.0000  3000368  20180829\n",
      "27    2018    08  29  18.0000  3000369  20180829\n",
      "28    2018    08  29   1.0323  3000370  20180829\n",
      "29    2018    08  29   2.9355  3000371  20180829\n",
      "...    ...   ...  ..      ...      ...       ...\n",
      "2970  2018    08  31   6.0000  8000036  20180831\n",
      "2971  2018    08  31   4.2000  8000037  20180831\n",
      "2972  2018    08  31  39.0000  8000038  20180831\n",
      "2973  2018    08  31  23.0000  8000039  20180831\n",
      "2974  2018    08  31   9.6774  8000040  20180831\n",
      "2975  2018    08  31   1.4355  8000041  20180831\n",
      "2976  2018    08  31   8.0000  8000042  20180831\n",
      "2977  2018    08  31  11.0000  8000043  20180831\n",
      "2978  2018    08  31   1.1258  8000044  20180831\n",
      "2979  2018    08  31  33.0000  8000045  20180831\n",
      "2980  2018    08  31   7.0000  8000046  20180831\n",
      "2981  2018    08  31   2.5645  8000047  20180831\n",
      "2982  2018    08  31   1.2000  8000048  20180831\n",
      "2983  2018    08  31   0.3000  8000049  20180831\n",
      "2984  2018    08  31   4.8000  8000050  20180831\n",
      "2985  2018    08  31   0.9677  8000051  20180831\n",
      "2986  2018    08  31   2.5161  8000052  20180831\n",
      "2987  2018    08  31   5.0000  8000053  20180831\n",
      "2988  2018    08  31   0.0000  8100034  20180831\n",
      "2989  2018    08  31   2.5000  8100035  20180831\n",
      "2990  2018    08  31  14.0000  8100036  20180831\n",
      "2991  2018    08  31   7.9774  8100037  20180831\n",
      "2992  2018    08  31  12.0000  8100038  20180831\n",
      "2993  2018    08  31   7.0000  8200020  20180831\n",
      "2994  2018    08  31  29.1900  8200021  20180831\n",
      "2995  2018    08  31   0.0000  8200022  20180831\n",
      "2996  2018    08  31   0.8710  8200023  20180831\n",
      "2997  2018    08  31  10.5000  8200024  20180831\n",
      "2998  2018    08  31   0.0000  8200025  20180831\n",
      "2999  2018    08  31   0.6452  8200026  20180831\n",
      "\n",
      "[3000 rows x 6 columns]\n",
      "   year month day  volume  company      time\n",
      "0  2018    08  29  6.8387  3000338  20180829\n",
      "1  2018    08  30  6.8387  3000338  20180830\n",
      "2  2018    08  31  6.8387  3000338  20180831\n",
      "day mean:  6.69418862919\n",
      "company mean:  3.247\n",
      "day median:  0.78755\n",
      "company median:  3.247\n",
      "day consumption:  8300.79390019\n",
      "company consumtion:  9.741\n",
      "the 4th colume:  [0.0 0.6452 6.8387 ..., 10.5 0.0 0.6452]\n",
      "the variance of 2018.08.31 is : 22.1526067692\n"
     ]
    }
   ],
   "source": [
    "rjh = RJH(data)\n",
    "#print rjh.name\n",
    "print rjh.getTable()\n",
    "print rjh.getCompanyInfo(3000338)\n",
    "print \"day mean: \" ,rjh.getMeanByDay('20180831')\n",
    "print \"company mean: \",rjh.getMeanByCompany(3000339)\n",
    "print \"day median: \", rjh.getMedianByDay('20180831')\n",
    "print \"company median: \",rjh.getMedianByCompany(3000339)\n",
    "print \"day consumption: \" ,rjh.getConsumptionByDay('20180831')\n",
    "print \"company consumtion: \",rjh.getConsumptionByCompany(3000339)\n",
    "print \"the 4th colume: \", rjh.getColumn(columnNumber = 4)\n",
    "print \"the variance of 2018.08.31 is :\", rjh.getVariance('20180831')\n"
   ]
  },
  {
   "cell_type": "code",
   "execution_count": 17,
   "metadata": {
    "collapsed": false
   },
   "outputs": [
    {
     "name": "stdout",
     "output_type": "stream",
     "text": [
      "[['2018' '008' '30' 152.5161 1 '201800830']\n",
      " ['2018' '008' '30' 0.0 3 '201800830']\n",
      " ['2018' '008' '30' 82.0 4 '201800830']\n",
      " ..., \n",
      " ['2018' '008' '30' 10.5 8200024 '201800830']\n",
      " ['2018' '008' '30' 0.0 8200025 '201800830']\n",
      " ['2018' '008' '30' 0.6452 8200026 '201800830']]\n",
      "6.69418862919 0.78755 22.1526067692 283.1052 0.0\n"
     ]
    }
   ],
   "source": [
    "Pdata = rjh.getTable()\n",
    "#print Pdata\n",
    "dayData = data.values[data.values[:,5] == '201800830']\n",
    "print dayData\n",
    "mu, median, var , maxV, minV = np.mean(dayData[:,3]), np.median(dayData[:,3]), np.std(dayData[:,3]), np.max(dayData[:,3]), np.min(dayData[:,3])\n",
    "print mu,median, var, maxV, minV"
   ]
  },
  {
   "cell_type": "code",
   "execution_count": 79,
   "metadata": {
    "collapsed": false
   },
   "outputs": [
    {
     "name": "stdout",
     "output_type": "stream",
     "text": [
      "[1, 2, 3] [14.0 14.0 14.0]\n"
     ]
    },
    {
     "data": {
      "image/png": "[encoded data removed]",
      "text/plain": [
       "<matplotlib.figure.Figure at 0x10aefa850>"
      ]
     },
     "metadata": {},
     "output_type": "display_data"
    }
   ],
   "source": [
    "ci = rjh.getCompanyInfo(8000032)\n",
    "y = ci.values[:,3]\n",
    "x = ci.values[:,5]\n",
    "x = [1,2,3]\n",
    "print x, y\n",
    "plt.plot(x, y)\n",
    "plt.show()"
   ]
  }
 ],
 "metadata": {
  "kernelspec": {
   "display_name": "Python 2",
   "language": "python",
   "name": "python2"
  },
  "language_info": {
   "codemirror_mode": {
    "name": "ipython",
    "version": 2
   },
   "file_extension": ".py",
   "mimetype": "text/x-python",
   "name": "python",
   "nbconvert_exporter": "python",
   "pygments_lexer": "ipython2",
   "version": "2.7.10rc1"
  }
 },
 "nbformat": 4,
 "nbformat_minor": 0
}
