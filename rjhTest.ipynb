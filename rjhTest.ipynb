{
 "cells": [
  {
   "cell_type": "code",
   "execution_count": 1,
   "metadata": {
    "collapsed": true
   },
   "outputs": [],
   "source": [
    "import sys\n",
    "import pandas as pd\n",
    "import numpy as np\n",
    "import sklearn as sl\n",
    "import scipy.stats as ss\n",
    "import logging\n",
    "import matplotlib.pyplot as plt\n",
    "from datetime import datetime\n",
    "from sklearn import preprocessing"
   ]
  },
  {
   "cell_type": "code",
   "execution_count": 3,
   "metadata": {
    "collapsed": false
   },
   "outputs": [],
   "source": [
    "class RJH(object):\n",
    "\n",
    "    def __init__(self, table):\n",
    "        \"\"\"\n",
    "        init prams\n",
    "        \"\"\"\n",
    "        self.__htArray = table\n",
    "        self.__table = self.preprocess()\n",
    "        self.name = \"hetong rijihua\"\n",
    "\n",
    "    def getWholeTable(self):\n",
    "\n",
    "        \"\"\"fetch the whole table!\"\"\"\n",
    "        return self.__htArray\n",
    "    \n",
    "    def getTable(self):\n",
    "        \"\"\"fetch the preprocessed table\"\"\"\n",
    "        return self.__table\n",
    "\n",
    "    def getColume(self, columnName=None, columnNumber=None):\n",
    "        \"\"\"fetch one column of the table either by Name for ny column index\"\"\"\n",
    "        data = getTable()\n",
    "        if columnName and columnNumber:\n",
    "            print \"Only one prameter needed!!!\"\n",
    "            raise ValueError\n",
    "        elif columnName:\n",
    "            return data[columnName]\n",
    "        elif columnNumber:\n",
    "            return data[:,columnNumber]\n",
    "        else:\n",
    "            print \"You should give either the columnName or the columnNumber!!!\"\n",
    "            raise IOError\n",
    "\n",
    "\n",
    "    def processWithNull(self):\n",
    "        data = getTable()\n",
    "        inputs = preprocessing.Imputer(missing_values='NaN', strategy='mean', axis=0)\n",
    "        new_data = inputs.fit(data)\n",
    "        return new_data\n",
    "\n",
    "    def preprocess(self):\n",
    "        data = self.getWholeTable()\n",
    "        data[\"month\"] = pd.Series([\"0\"+x if int(x)<10 else x for x in data[\"month\"]])\n",
    "        data[\"day\"] = pd.Series([\"0\"+x if int(x)<10 else x for x in data[\"day\"]])\n",
    "        data[\"time\"] = data[\"year\"] + data[\"month\"] + data[\"day\"]\n",
    "        return data\n",
    "\n",
    "\n",
    "    def getMean(self, arr, weights=None):\n",
    "        if not weights:\n",
    "            return arr.sum()/len(arr)\n",
    "        else:\n",
    "            return np.mean(arr, weights)\n",
    "\n",
    "    def meanWrapper(func):\n",
    "        \n",
    "        def inner():\n",
    "            func()\n",
    "            return inner\n",
    "        \n",
    "    def getMeanByDay(self, date=None):\n",
    "        data = getTable()\n",
    "        dayData = data.values[data.values[:,5] == date]\n",
    "        return np.mean(dayData[:,3])\n",
    "\n",
    "    def getMeanByCompany(self, companyName=None, companyId=None):\n",
    "        data = getTable()\n",
    "        if companyName:\n",
    "            companyData = data.values[data.values[:,4] == companyName]:\n",
    "        if companyId = data.values[data.values[:,5]]\n",
    "\n",
    "    def getMedianByDay(self, arr, date=None):\n",
    "\n",
    "        pass\n",
    "\n",
    "    def getMedian(self, MedianPoint=5):\n",
    "\n",
    "        pass\n",
    "\n",
    "    def getVariance(self):\n",
    "\n",
    "        pass\n",
    "\n",
    "    def predict(self):\n",
    "\n",
    "        pass\n"
   ]
  },
  {
   "cell_type": "code",
   "execution_count": 4,
   "metadata": {
    "collapsed": true
   },
   "outputs": [],
   "source": [
    "######get the filename######\n",
    "filename = 'rjhb3000.csv'\n",
    "    #print filename\n",
    "\n",
    "###################################################################################\n",
    "######read file into dataFrame#######\n",
    "data = pd.read_csv(filename, sep='\\t',\n",
    "                        header=0, dtype={\"year\":str, \"month\":str, \"day\":str})\n",
    "    #print(data)\n",
    "\n",
    "##################################################################################\n",
    "######Function Test######\n",
    "######preprocess######\n",
    "\n"
   ]
  },
  {
   "cell_type": "code",
   "execution_count": 5,
   "metadata": {
    "collapsed": false
   },
   "outputs": [
    {
     "name": "stdout",
     "output_type": "stream",
     "text": [
      "hetong rijihua\n",
      "      year month day   volume  company       time\n",
      "0     2018   008  29   0.0000  3000336  201800829\n",
      "1     2018   008  29   0.6452  3000337  201800829\n",
      "2     2018   008  29   6.8387  3000338  201800829\n",
      "3     2018   008  29   3.2470  3000339  201800829\n",
      "4     2018   008  29   1.6083  3000340  201800829\n",
      "5     2018   008  29   0.0000  3000341  201800829\n",
      "6     2018   008  29   0.0000  3000342  201800829\n",
      "7     2018   008  29   0.0000  3000344  201800829\n",
      "8     2018   008  29   0.0000  3000345  201800829\n",
      "9     2018   008  29   0.0000  3000347  201800829\n",
      "10    2018   008  29  18.0000  3000350  201800829\n",
      "11    2018   008  29   8.0000  3000351  201800829\n",
      "12    2018   008  29   0.3500  3000352  201800829\n",
      "13    2018   008  29   0.2903  3000353  201800829\n",
      "14    2018   008  29   0.3226  3000354  201800829\n",
      "15    2018   008  29   3.8710  3000355  201800829\n",
      "16    2018   008  29   0.5806  3000356  201800829\n",
      "17    2018   008  29   0.5806  3000357  201800829\n",
      "18    2018   008  29  18.2581  3000358  201800829\n",
      "19    2018   008  29  18.2581  3000359  201800829\n",
      "20    2018   008  29   0.0645  3000360  201800829\n",
      "21    2018   008  29   2.5161  3000362  201800829\n",
      "22    2018   008  29   2.5161  3000363  201800829\n",
      "23    2018   008  29   4.8387  3000364  201800829\n",
      "24    2018   008  29   0.0000  3000366  201800829\n",
      "25    2018   008  29  17.6129  3000367  201800829\n",
      "26    2018   008  29   0.0000  3000368  201800829\n",
      "27    2018   008  29  18.0000  3000369  201800829\n",
      "28    2018   008  29   1.0323  3000370  201800829\n",
      "29    2018   008  29   2.9355  3000371  201800829\n",
      "...    ...   ...  ..      ...      ...        ...\n",
      "2970  2018   008  31   6.0000  8000036  201800831\n",
      "2971  2018   008  31   4.2000  8000037  201800831\n",
      "2972  2018   008  31  39.0000  8000038  201800831\n",
      "2973  2018   008  31  23.0000  8000039  201800831\n",
      "2974  2018   008  31   9.6774  8000040  201800831\n",
      "2975  2018   008  31   1.4355  8000041  201800831\n",
      "2976  2018   008  31   8.0000  8000042  201800831\n",
      "2977  2018   008  31  11.0000  8000043  201800831\n",
      "2978  2018   008  31   1.1258  8000044  201800831\n",
      "2979  2018   008  31  33.0000  8000045  201800831\n",
      "2980  2018   008  31   7.0000  8000046  201800831\n",
      "2981  2018   008  31   2.5645  8000047  201800831\n",
      "2982  2018   008  31   1.2000  8000048  201800831\n",
      "2983  2018   008  31   0.3000  8000049  201800831\n",
      "2984  2018   008  31   4.8000  8000050  201800831\n",
      "2985  2018   008  31   0.9677  8000051  201800831\n",
      "2986  2018   008  31   2.5161  8000052  201800831\n",
      "2987  2018   008  31   5.0000  8000053  201800831\n",
      "2988  2018   008  31   0.0000  8100034  201800831\n",
      "2989  2018   008  31   2.5000  8100035  201800831\n",
      "2990  2018   008  31  14.0000  8100036  201800831\n",
      "2991  2018   008  31   7.9774  8100037  201800831\n",
      "2992  2018   008  31  12.0000  8100038  201800831\n",
      "2993  2018   008  31   7.0000  8200020  201800831\n",
      "2994  2018   008  31  29.1900  8200021  201800831\n",
      "2995  2018   008  31   0.0000  8200022  201800831\n",
      "2996  2018   008  31   0.8710  8200023  201800831\n",
      "2997  2018   008  31  10.5000  8200024  201800831\n",
      "2998  2018   008  31   0.0000  8200025  201800831\n",
      "2999  2018   008  31   0.6452  8200026  201800831\n",
      "\n",
      "[3000 rows x 6 columns]\n"
     ]
    }
   ],
   "source": [
    "rjh = RJH(data)\n",
    "print rjh.name\n",
    "print rjh.preprocess()"
   ]
  },
  {
   "cell_type": "code",
   "execution_count": 17,
   "metadata": {
    "collapsed": false
   },
   "outputs": [
    {
     "name": "stdout",
     "output_type": "stream",
     "text": [
      "[['2018' '008' '30' 152.5161 1 '201800830']\n",
      " ['2018' '008' '30' 0.0 3 '201800830']\n",
      " ['2018' '008' '30' 82.0 4 '201800830']\n",
      " ..., \n",
      " ['2018' '008' '30' 10.5 8200024 '201800830']\n",
      " ['2018' '008' '30' 0.0 8200025 '201800830']\n",
      " ['2018' '008' '30' 0.6452 8200026 '201800830']]\n",
      "6.69418862919 0.78755 22.1526067692 283.1052 0.0\n"
     ]
    }
   ],
   "source": [
    "Pdata = rjh.getTable()\n",
    "#print Pdata\n",
    "dayData = data.values[data.values[:,5] == '201800830']\n",
    "print dayData\n",
    "mu, median, var , maxV, minV = np.mean(dayData[:,3]), np.median(dayData[:,3]), np.std(dayData[:,3]), np.max(dayData[:,3]), np.min(dayData[:,3])\n",
    "print mu,median, var, maxV, minV"
   ]
  },
  {
   "cell_type": "code",
   "execution_count": 26,
   "metadata": {
    "collapsed": false
   },
   "outputs": [
    {
     "data": {
      "text/plain": [
       "1240"
      ]
     },
     "execution_count": 26,
     "metadata": {},
     "output_type": "execute_result"
    }
   ],
   "source": [
    "idx = data.columns\n",
    "len(dayData[:,3])"
   ]
  },
  {
   "cell_type": "code",
   "execution_count": null,
   "metadata": {
    "collapsed": true
   },
   "outputs": [],
   "source": []
  }
 ],
 "metadata": {
  "kernelspec": {
   "display_name": "Python 2",
   "language": "python",
   "name": "python2"
  },
  "language_info": {
   "codemirror_mode": {
    "name": "ipython",
    "version": 2
   },
   "file_extension": ".py",
   "mimetype": "text/x-python",
   "name": "python",
   "nbconvert_exporter": "python",
   "pygments_lexer": "ipython2",
   "version": "2.7.10"
  }
 },
 "nbformat": 4,
 "nbformat_minor": 0
}
