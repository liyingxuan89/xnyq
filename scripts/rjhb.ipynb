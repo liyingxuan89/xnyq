{
 "cells": [
  {
   "cell_type": "code",
   "execution_count": 1,
   "metadata": {
    "collapsed": true
   },
   "outputs": [],
   "source": [
    "import sys \n",
    "import pandas as pd\n",
    "import numpy as np\n",
    "import sklearn as sl\n",
    "import scipy.stats as ss\n",
    "import logging\n",
    "import matplotlib.pyplot as plt \n",
    "from datetime import datetime"
   ]
  },
  {
   "cell_type": "code",
   "execution_count": 87,
   "metadata": {
    "collapsed": true
   },
   "outputs": [],
   "source": [
    "class RJHB(object):\n",
    "\n",
    "    def __init__(self, table):\n",
    "        \"\"\"\n",
    "        paras:\n",
    "            table: numpy array or DataFrame that contains info of rijihuabiao;       \n",
    "        \"\"\"\n",
    "        self.__table = table\n",
    "        self.preprocess()\n",
    "        self.__groupByCompany = None\n",
    "        self.groupByCo()\n",
    "\n",
    "    \n",
    "    def getTable(self):\n",
    "        \"\"\"\n",
    "        fetch whole content of the table\n",
    "        \"\"\"\n",
    "        return self.__table\n",
    "\n",
    "    def preprocess(self):\n",
    "        \"\"\"\n",
    "        preprocesses;\n",
    "        \"\"\"\n",
    "        data  = self.getTable()\n",
    "        data[\"month\"] = pd.Series([\"0\"+x if int(x)<10 and len(x)<2 else x for x in data[\"month\"]])\n",
    "        data[\"day\"] = pd.Series([\"0\"+x if int(x)<10 and len(x)<2 else x for x in data[\"day\"]])\n",
    "        data[\"time\"] = data[\"year\"] + data[\"month\"] + data[\"day\"]\n",
    "        self.__table = data\n",
    "\n",
    "    def getItem(self, columnName):\n",
    "        \"\"\"\n",
    "        fetch one column of the table by name;\n",
    "        paras:\n",
    "            column keyword;\n",
    "        return:\n",
    "            A Series of specified column;\n",
    "        \"\"\"\n",
    "        data = self.getTable()\n",
    "        if columnName in data.columns:\n",
    "            return data[columnName]\n",
    "        else:\n",
    "            print columnName + \" if an invalid keyword!!!\"\n",
    "            raise KeyError\n",
    "\n",
    "    def displayItem(self):\n",
    "\n",
    "        data = self.getTable()\n",
    "        return data.columns\n",
    "\n",
    "    def NumOfRows(self):\n",
    "\n",
    "        data = self.getTable()\n",
    "        return len(data.index)\n",
    "\n",
    "\n",
    "    def groupByCo(self):\n",
    "        data = self.getTable()\n",
    "        gdata  = data.groupby(data['company'])\n",
    "        ret = dict(list(gdata))\n",
    "        self.__groupByCompany = ret\n",
    "        #comInfo = gdata[companyId]\n",
    "\n",
    "    def groupByDate(self, *args):\n",
    "        data = self.getTable()\n",
    "        if isinstance(args[0], tuple):\n",
    "            args = args[0]\n",
    "        #print args\n",
    "        keys = [data[x] for x in args]\n",
    "        gdata = data.groupby(keys)\n",
    "        return dict(list(gdata))\n",
    "\n",
    "    def getCoInfo(self, companyId):\n",
    "        \"\"\"\n",
    "        paras:\n",
    "            companyId: id of company;\n",
    "        \"\"\"\n",
    "        data = self.__groupByCompany\n",
    "        companyInfo = data[companyId]\n",
    "        return companyInfo\n",
    "\n",
    "    def getStats_skew(self, data):\n",
    "        pass\n",
    "\n",
    "    def getStatsByCo(self, companyId):\n",
    "        \"\"\"\n",
    "        paras:\n",
    "            companyId: id of company;\n",
    "        \"\"\"\n",
    "\n",
    "        coInfo = self.getCoInfo(companyId)\n",
    "\n",
    "        return coInfo['volume'].describe()\n",
    "    \n",
    "    def getStatsByDate(self, *args, **kwargs):\n",
    "        \"\"\"\n",
    "        paras:\n",
    "            year:'year', optional;\n",
    "            month:'month', optional;\n",
    "            day:'day', optional;\n",
    "        return:\n",
    "            stats info of specified date;\n",
    "        demo:\n",
    "            ss = self.getStatsByDate('year', 'month', year=\"2018\", month=\"05\");\n",
    "        \"\"\"\n",
    "        data = self.groupByDate(args)\n",
    "        dates = tuple([kwargs[x] for x in args])\n",
    "        #print dates\n",
    "        stats = data[dates]['volume'].describe()\n",
    "        return stats"
   ]
  },
  {
   "cell_type": "code",
   "execution_count": 114,
   "metadata": {
    "collapsed": false
   },
   "outputs": [
    {
     "data": {
      "text/plain": [
       "<matplotlib.axes._subplots.AxesSubplot at 0x7fa28a0b22d0>"
      ]
     },
     "execution_count": 114,
     "metadata": {},
     "output_type": "execute_result"
    }
   ],
   "source": [
    "#rjh.getItem(\"company\")[:10]\n",
    "#rjh.displayItem()\n",
    "#rjh.NumOfRows()\n",
    "rjh.getCoInfo(3000163)['volume'].plot()\n",
    "#rjh.getStatsByCo(3000163)\n",
    "#xx = rjh.groupByDate('year', 'month')\n",
    "#rjh.getStatsByDate('year','month',year='2015',month='05')"
   ]
  },
  {
   "cell_type": "code",
   "execution_count": 116,
   "metadata": {
    "collapsed": false
   },
   "outputs": [],
   "source": [
    "plt.show()"
   ]
  },
  {
   "cell_type": "code",
   "execution_count": 88,
   "metadata": {
    "collapsed": false
   },
   "outputs": [],
   "source": [
    "#data.head(10)\n",
    "rjh = RJHB(data)\n",
    "#rjh.getTable()[:10]['company']"
   ]
  },
  {
   "cell_type": "code",
   "execution_count": 15,
   "metadata": {
    "collapsed": true
   },
   "outputs": [],
   "source": [
    "filename = 'rjhb.csv.in'\n",
    "data = pd.read_csv(filename, sep='\\t',header=0, dtype={\"year\":str, \"month\":str, \"day\":str})"
   ]
  }
 ],
 "metadata": {
  "kernelspec": {
   "display_name": "Python 2",
   "language": "python",
   "name": "python2"
  },
  "language_info": {
   "codemirror_mode": {
    "name": "ipython",
    "version": 2
   },
   "file_extension": ".py",
   "mimetype": "text/x-python",
   "name": "python",
   "nbconvert_exporter": "python",
   "pygments_lexer": "ipython2",
   "version": "2.7.10"
  }
 },
 "nbformat": 4,
 "nbformat_minor": 0
}
